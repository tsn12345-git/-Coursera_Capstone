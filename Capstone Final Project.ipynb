{
    "cells": [
        {
            "cell_type": "markdown",
            "metadata": {
                "collapsed": true
            },
            "source": "# This is my Capstone Final project\n# Author: Sankaranarayanan Thirumoorthy"
        },
        {
            "cell_type": "markdown",
            "metadata": {},
            "source": "# 1. Introduction\n## 1.1 Background\n\nChennai is the capital city of Tamil Nadu, India and is vastly spread.  The Chennai Metropolitan Area spreads over 1,189 square kilometers and has a population of about 9 million people.  The city is broadly divided into 15 zones.  The local administration aims to provide good healthcare to the public and continues to improve the same.  \n\nFor the sake of this project, I am a consulting Data Scientist, to help them provide the necessary guidance on the location of their upcoming healthcare facility.  The administrtion is of the opinion that given the size of the city which continues to expand and the growing population, there is enough scope to increase the number of healthcare facilities.  Of course, they have ear-marked in their budgets a specific sum for new / expansion of healthcare facilities.  The local administration has approached me to help them prioritize where new facilities could be developed, to improve the reach of such facilities to the population.\n\n\n## 1.2 The Problem\n\nThe location of a new healthcare facility will depend on multiple factors, such as the population, already existing facilities, air quality & water quality in the given area, number of households, accessibility & cost factors.  This project aims to group the entire population with these characteristics and recommend possible locations where new factilities could be built.\n\n## Stakeholders\n\nThe Local administration is the primary stakeholder, who is interested in creating and maintaining new healthcare facilities.  Apart from them, the general public at large is a key stakeholder, as their contributions by way of local taxes are being spent for such development activities.  So, there is a keen interest by the general public and the local administration to improve the overall healthcare system of the city of Chennai, which will become a Model City for the rest of the state and the country."
        },
        {
            "cell_type": "markdown",
            "metadata": {},
            "source": "# 2. Data Section\n## 2.1 Data sources\n\nI plan to use the Foursquare APIs for collecting the location and neighborhood data as well as categories of hospitals / clinics etc.  There have been problems accessing Foursquare website for quite sometime and hence, as an alternative, I plan to carry out webscraping from various sites which contain Chennai's demographic data as well as population and other details. The Chennai Metropolitan Development Authority maintains data related to various parameters grouped by individual Pincodes.  \n\n## 2.2 Data Cleansing\n\nThere are different websites which maintain different sets of data, like the Pollution Control Board which maintains the air quality, water quality while the district administration maintains the population, healthcare statistics.  I will need to map the different areas / pin codes / zone codes to the respective rows and arrive at a consolidated dataframe for meaningful analysis.\n\n## 2.3 Feature Selection\n\nThe primary features for this project will be the geographical division by way of pincodes, wards, zones with population, number of healthcare facilities, air quality, water quality data."
        },
        {
            "cell_type": "code",
            "execution_count": null,
            "metadata": {},
            "outputs": [],
            "source": ""
        }
    ],
    "metadata": {
        "kernelspec": {
            "display_name": "Python 3.6",
            "language": "python",
            "name": "python3"
        },
        "language_info": {
            "codemirror_mode": {
                "name": "ipython",
                "version": 3
            },
            "file_extension": ".py",
            "mimetype": "text/x-python",
            "name": "python",
            "nbconvert_exporter": "python",
            "pygments_lexer": "ipython3",
            "version": "3.6.9"
        }
    },
    "nbformat": 4,
    "nbformat_minor": 1
}